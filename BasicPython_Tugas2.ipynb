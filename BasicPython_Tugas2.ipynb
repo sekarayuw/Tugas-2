{
  "nbformat": 4,
  "nbformat_minor": 0,
  "metadata": {
    "colab": {
      "name": "BasicPython-Tugas2.ipynb",
      "provenance": []
    },
    "kernelspec": {
      "name": "python3",
      "display_name": "Python 3"
    },
    "language_info": {
      "name": "python"
    }
  },
  "cells": [
    {
      "cell_type": "code",
      "source": [
        "nama_kontak=['Fawwaz', 'John']\n",
        "no_hp=['08123456789', '08987654321']"
      ],
      "metadata": {
        "id": "rLTQ3oL81MXM"
      },
      "execution_count": null,
      "outputs": []
    },
    {
      "cell_type": "code",
      "execution_count": null,
      "metadata": {
        "id": "mk56l6UPees5"
      },
      "outputs": [],
      "source": [
        "def daftarKontak():\n",
        "   for x in range(len(nama_kontak)):\n",
        "     print(\"Nama: \",nama_kontak[x])\n",
        "     print(\"No.HP: \", no_hp[x])"
      ]
    },
    {
      "cell_type": "code",
      "source": [
        "def tambahKontak():\n",
        "  nama_kontak.append(input(\"Masukan nama anda: \"))\n",
        "  no_hp.append(input(\"Masukan No.HP anda: \"))\n",
        "  print(\"Data anda telah terdaftar!\")"
      ],
      "metadata": {
        "id": "SPJ9ET4beq0k"
      },
      "execution_count": null,
      "outputs": []
    },
    {
      "cell_type": "code",
      "source": [
        "def keluar():\n",
        "  print(\"Program selesai, sampai jumpa!!\")"
      ],
      "metadata": {
        "id": "W1GPr4UtftmU"
      },
      "execution_count": null,
      "outputs": []
    },
    {
      "cell_type": "code",
      "source": [
        "def main():\n",
        "  print(\"======MENU======\")\n",
        "  print(\"1.Daftar Kontak \")\n",
        "  print(\"2.Tambah Kontak \")\n",
        "  print(\"3.Keluar \")\n",
        "  pil=int(input(\"Menu[1-3]: \"))\n",
        "\n",
        "  if pil == 1:\n",
        "    daftarKontak()\n",
        "  elif pil == 2:\n",
        "    tambahKontak()\n",
        "  elif pil == 3:\n",
        "    keluar()\n",
        "  else:\n",
        "    print(\"Menu yang anda input tidak ada!\")\n",
        "\n",
        "main()"
      ],
      "metadata": {
        "colab": {
          "base_uri": "https://localhost:8080/"
        },
        "id": "RJDiepkGf_tY",
        "outputId": "1044457e-1d57-47cb-9901-1fb05cc8c7d5"
      },
      "execution_count": null,
      "outputs": [
        {
          "output_type": "stream",
          "name": "stdout",
          "text": [
            "======MENU======\n",
            "1.Daftar Kontak \n",
            "2.Tambah Kontak \n",
            "3.Keluar \n",
            "Menu[1-3]: 10\n",
            "Menu yang anda input tidak ada!\n"
          ]
        }
      ]
    }
  ]
}